{
 "cells": [
  {
   "cell_type": "markdown",
   "id": "4909517c",
   "metadata": {},
   "source": [
    "# Algo Final Program"
   ]
  },
  {
   "cell_type": "markdown",
   "id": "407acb7c",
   "metadata": {},
   "source": [
    "## Imports"
   ]
  },
  {
   "cell_type": "code",
   "execution_count": 1,
   "id": "b8336e2b",
   "metadata": {
    "ExecuteTime": {
     "end_time": "2024-04-29T14:11:18.185327900Z",
     "start_time": "2024-04-29T14:11:18.165309900Z"
    }
   },
   "outputs": [],
   "source": [
    "import math\n",
    "import random\n",
    "import time\n",
    "import numpy as np\n",
    "from scipy.stats import linregress\n",
    "import matplotlib.pyplot as plt\n",
    "import pandas as pd"
   ]
  },
  {
   "cell_type": "markdown",
   "id": "745c1e5c",
   "metadata": {},
   "source": [
    "## Fibonaci Heap Implementation"
   ]
  },
  {
   "cell_type": "code",
   "execution_count": 2,
   "id": "34e0a875",
   "metadata": {
    "ExecuteTime": {
     "end_time": "2024-04-29T16:46:45.324701300Z",
     "start_time": "2024-04-29T16:46:45.319082Z"
    }
   },
   "outputs": [],
   "source": [
    "class FibonacciNode:\n",
    "    def __init__(self, key):\n",
    "        self.key = key\n",
    "        self.left = self\n",
    "        self.right = self\n",
    "        self.parent = None\n",
    "        self.child = None\n",
    "        self.num_children = 0\n",
    "        self.mark = False\n",
    "\n",
    "        \n",
    "class FibonacciHeap:\n",
    "    def __init__(self):\n",
    "        self.minimum = None\n",
    "        self.num_nodes = 0\n",
    "\n",
    "    '''\n",
    "    returns the min value\n",
    "    '''\n",
    "    def get_min(self):\n",
    "        return self.minimum\n",
    "\n",
    "    '''\n",
    "    removes and returns the min value\n",
    "    '''\n",
    "    def extract_min(self):\n",
    "        minimum = self.minimum\n",
    "        if minimum is not None:\n",
    "            \n",
    "            # If the minimum node has children, merge them into the root list\n",
    "            if minimum.child is not None:\n",
    "                # get all the children of the minimum node\n",
    "                children = []\n",
    "                for child in self._iterate(minimum.child):\n",
    "                    children.append(child)\n",
    "                \n",
    "                # add children to the root list \n",
    "                for child in children:\n",
    "                    self._add_to_list(child)\n",
    "                    child.parent = None\n",
    "                \n",
    "            # Remove the minimum node from the doubly linked list\n",
    "            minimum.left.right = minimum.right\n",
    "            minimum.right.left = minimum.left\n",
    "            \n",
    "            # Update the minimum and consolidate the heap if needed\n",
    "            if minimum is minimum.right:\n",
    "                self.minimum = None\n",
    "            else:\n",
    "                self.minimum = minimum.right\n",
    "                self._consolidate()\n",
    "            self.num_nodes -= 1\n",
    "        return minimum\n",
    "\n",
    "    '''\n",
    "    adds the param value to the root list\n",
    "    returns the FibonacciNode created\n",
    "    '''\n",
    "    def insert(self, key):\n",
    "        new_node = FibonacciNode(key)\n",
    "        \n",
    "        self._add_to_list(new_node)\n",
    "        \n",
    "        # Update the minimum if necessary\n",
    "        if self.minimum is None or key < self.minimum.key:\n",
    "            self.minimum = new_node\n",
    "            \n",
    "        self.num_nodes += 1\n",
    "        return new_node\n",
    "\n",
    "    '''\n",
    "    given a FibonacciNode alter the key value\n",
    "    new key must be less than node.key\n",
    "    '''\n",
    "    def decrease_key(self, node, new_key):\n",
    "        if new_key > node.key:\n",
    "            return None\n",
    "        \n",
    "        node.key = new_key\n",
    "        \n",
    "        # Check if the node.key is less than its parent.key\n",
    "        parent = node.parent\n",
    "        if parent is not None and new_key < parent.key:\n",
    "            self._cut(node, parent)\n",
    "            self._cascading_cut(parent)\n",
    "            \n",
    "        # Update the minimum if necessary\n",
    "        if new_key < self.minimum.key:\n",
    "            self.minimum = node\n",
    "\n",
    "    '''\n",
    "    given 2 FibonacciHeaps\n",
    "    returns 1 combined heap\n",
    "    '''\n",
    "    def merge(self, heap_to_merge):\n",
    "        new_heap = FibonacciHeap()\n",
    "        \n",
    "        # Merge root lists and update min node\n",
    "        \n",
    "        # set new_heap to self heap\n",
    "        new_heap.minimum = self.minimum\n",
    "        \n",
    "        last = heap_to_merge.minimum.left\n",
    "        \n",
    "        heap_to_merge.minimum.left = new_heap.minimum.left\n",
    "        \n",
    "        new_heap.minimum.left.right = heap_to_merge.minimum\n",
    "        \n",
    "        new_heap.minimum.left = last\n",
    "        \n",
    "        new_heap.minimum.left.right = new_heap.minimum\n",
    "        \n",
    "        if heap_to_merge.minimum.key < new_heap.minimum.key:\n",
    "            new_heap.minimum = heap_to_merge.minimum\n",
    "            \n",
    "        # Update total number of nodes\n",
    "        new_heap.num_nodes = self.num_nodes + heap_to_merge.num_nodes\n",
    "        return new_heap\n",
    "\n",
    "    def _cascading_cut(self, node):\n",
    "        parent = node.parent\n",
    "        if parent is not None:\n",
    "            # if node is not in root list\n",
    "            if node.mark is False:\n",
    "                node.mark = True\n",
    "            else:\n",
    "                # If the node is marked, cut it from its parent and continue cascading\n",
    "                self._cut(node, parent)\n",
    "                self._cascading_cut(parent)\n",
    "\n",
    "    def _consolidate(self):\n",
    "        # Initialize root_nodes to store nodes of each quantity of children        \n",
    "        log_num_nodes = math.log(self.num_nodes)\n",
    "        num_root_nodes = int(log_num_nodes * 2)\n",
    "\n",
    "        # Initialize an array to hold the number of children\n",
    "        root_nodes = [None] * num_root_nodes\n",
    "        \n",
    "        # Collect all nodes from the root list\n",
    "        all_nodes = []\n",
    "        for node in self._iterate(self.minimum):\n",
    "            all_nodes.append(node)\n",
    "\n",
    "        # Iterate over each node in the root list\n",
    "        for current_node in all_nodes:\n",
    "            current_num_children = current_node.num_children\n",
    "            \n",
    "            # Merge trees of equal degree\n",
    "            while root_nodes[current_num_children] is not None:\n",
    "                other_node = root_nodes[current_num_children]\n",
    "                \n",
    "                # Swap nodes to maintain min-heap property\n",
    "                if current_node.key > other_node.key:\n",
    "                    temp = current_node\n",
    "                    current_node, other_node = other_node, temp\n",
    "                    \n",
    "                self._heap_link(other_node, current_node)\n",
    "                \n",
    "                # Empty the degree bucket and move to the next degree\n",
    "                root_nodes[current_num_children] = None\n",
    "                current_num_children += 1\n",
    "                \n",
    "            # add current node to the current degree bucket\n",
    "            root_nodes[current_num_children] = current_node\n",
    "            \n",
    "        # Find the new minimum node in the root list\n",
    "        for root_node in root_nodes:\n",
    "            if root_node is not None:\n",
    "                if root_node.key < self.minimum.key:\n",
    "                    self.minimum = root_node\n",
    "                    \n",
    "    def _cut(self, child, parent):\n",
    "        # remove from child list\n",
    "        if parent.child is parent.child.right:\n",
    "            # parent has one chile\n",
    "            parent.child = None\n",
    "        elif parent.child is child:\n",
    "            # node is first chile of parent\n",
    "            parent.child = child.right\n",
    "            child.right.parent = parent\n",
    "            \n",
    "        # Remove the node from the child list\n",
    "        child.left.right = child.right\n",
    "        child.right.left = child.left\n",
    "        \n",
    "        parent.num_children -= 1\n",
    "        self._add_to_list(child)\n",
    "        child.parent = None\n",
    "        child.mark = False\n",
    " \n",
    "    def _iterate(self, begining):\n",
    "        node = begining\n",
    "        loop_completed = False\n",
    "        while True:\n",
    "            if node == begining:\n",
    "                loop_completed = True\n",
    "            yield node\n",
    "            node = node.right\n",
    "            if node == begining and loop_completed is True:\n",
    "                break\n",
    "\n",
    "    def _add_to_list(self, node):\n",
    "        if self.minimum is None:\n",
    "            # If root list is empty, set node as the root list\n",
    "            self.minimum = node\n",
    "        else:\n",
    "            # Insert node into the root list\n",
    "            node.right = self.minimum.right\n",
    "            node.left = self.minimum\n",
    "            self.minimum.right.left = node\n",
    "            self.minimum.right = node\n",
    "            \n",
    "    def _heap_link(self, node1, node2):\n",
    "        # Remove node1 from the root list\n",
    "        if node1 is self.minimum:\n",
    "            # node is head of root list\n",
    "            self.minimum = node1.right\n",
    "        \n",
    "        # Remove the node from the doubly linked list\n",
    "        node1.left.right = node1.right\n",
    "        node1.right.left = node1.left\n",
    "        \n",
    "        # Reset node1's left and right references\n",
    "        node1.left = node1\n",
    "        node1.right = node1\n",
    "        \n",
    "        # Merge node1 into node2's child list        \n",
    "        if node2.child is None:\n",
    "            # If parent has no child, set node as the child\n",
    "            node2.child = node1\n",
    "        else:\n",
    "            # Insert node into child list\n",
    "            node1.right = node2.child.right\n",
    "            node1.left = node2.child\n",
    "            node2.child.right.left = node1\n",
    "            node2.child.right = node1   \n",
    "        \n",
    "        node2.num_children += 1\n",
    "        \n",
    "        # Update node1's parent and mark\n",
    "        node1.parent = node2\n",
    "        node1.mark = False\n"
   ]
  },
  {
   "cell_type": "markdown",
   "id": "68ed8f01",
   "metadata": {},
   "source": [
    "## Fibonacci Heap Validation"
   ]
  },
  {
   "cell_type": "code",
   "execution_count": 3,
   "id": "1c7ebd57",
   "metadata": {
    "ExecuteTime": {
     "end_time": "2024-04-29T16:46:46.554542400Z",
     "start_time": "2024-04-29T16:46:46.539153200Z"
    }
   },
   "outputs": [
    {
     "name": "stdout",
     "output_type": "stream",
     "text": [
      "empty heap test:        pass\n",
      "1 value heap test:      pass\n",
      "2 diff value heap test: pass\n",
      "2 same heap test:       pass\n",
      "extract_min test:       pass\n",
      "decrease key heap test: pass\n"
     ]
    }
   ],
   "source": [
    "heap = FibonacciHeap()\n",
    "t2 = heap.get_min()\n",
    "t3 = heap.extract_min()\n",
    "message = \"pass\" if t2 == t3 == None else \"fail\"\n",
    "print(\"empty heap test:        \" + message)\n",
    "\n",
    "heap = FibonacciHeap()\n",
    "heap.insert(1)\n",
    "t2 = heap.get_min().key\n",
    "t3 = heap.extract_min().key\n",
    "message = \"pass\" if t2 == t3 == 1 else \"fail\"\n",
    "print(\"1 value heap test:      \" + message)\n",
    "\n",
    "heap = FibonacciHeap()\n",
    "heap.insert(5)\n",
    "heap.insert(1)\n",
    "t2 = heap.get_min().key\n",
    "t3 = heap.extract_min().key\n",
    "message = \"pass\" if t2 == t3 == 1 else \"fail\"\n",
    "print(\"2 diff value heap test: \" + message)\n",
    "\n",
    "heap = FibonacciHeap()\n",
    "heap.insert(1)\n",
    "heap.insert(1)\n",
    "t2 = heap.get_min().key\n",
    "t3 = heap.extract_min().key\n",
    "message = \"pass\" if t2 == t3 == 1 else \"fail\"\n",
    "print(\"2 same heap test:       \" + message)\n",
    "\n",
    "heap = FibonacciHeap()\n",
    "for n in range(1,10):\n",
    "    heap.insert(n)\n",
    "\n",
    "passed = True\n",
    "for n in range(1,10):\n",
    "    m = heap.extract_min().key\n",
    "    if n != m:\n",
    "        passed = False\n",
    "        print(\"extract_min test:       Fail\")\n",
    "        break\n",
    "\n",
    "if passed:\n",
    "    print(\"extract_min test:       pass\")\n",
    "    \n",
    "heap = FibonacciHeap()\n",
    "node = heap.insert(5)\n",
    "heap.insert(1)\n",
    "heap.decrease_key(node, 0)\n",
    "\n",
    "message = \"pass\" if heap.get_min().key == 0 else \"fail\"\n",
    "print(\"decrease key heap test: \" + message)"
   ]
  },
  {
   "cell_type": "markdown",
   "id": "ea9239ea",
   "metadata": {},
   "source": [
    "## Fibonacci Heap Benchmarking\n",
    "\n",
    "Operation | Amortized Running Time\n",
    "----------|-----------------------\n",
    "insert | $O(1)$\n",
    "get_min | $O(1)$\n",
    "extract_min | $O(log n)$\n",
    "decrease_key | $O(1)$\n",
    "merge | $O(1)$\n",
    "\n"
   ]
  },
  {
   "cell_type": "markdown",
   "id": "57b99bad-074b-45f9-8d8e-770fdf0d1667",
   "metadata": {
    "ExecuteTime": {
     "end_time": "2024-04-29T16:47:00.463659700Z",
     "start_time": "2024-04-29T16:47:00.455628200Z"
    }
   },
   "source": [
    "### Benchmarking insert"
   ]
  },
  {
   "cell_type": "code",
   "execution_count": 4,
   "id": "c295eebf-0669-4913-97a9-5de900a41248",
   "metadata": {},
   "outputs": [],
   "source": [
    "def insert_benchmark(heap_to_insert):\n",
    "    start_time = time.perf_counter()\n",
    "    heap_to_insert.insert(-1)\n",
    "    return (time.perf_counter() - start_time)"
   ]
  },
  {
   "cell_type": "code",
   "execution_count": 5,
   "id": "d6cca1198ab8e6c7",
   "metadata": {
    "jupyter": {
     "outputs_hidden": false
    }
   },
   "outputs": [],
   "source": [
    "insert_100 = FibonacciHeap()\n",
    "for i in range(100):\n",
    "    node_100 = insert_100.insert(i)\n",
    "\n",
    "insert_1000 = FibonacciHeap()\n",
    "for i in range(1000):\n",
    "    node_1000 = insert_1000.insert(i)\n",
    "\n",
    "insert_10000 = FibonacciHeap()\n",
    "for i in range(10000):\n",
    "    node_10000 = insert_10000.insert(i)\n",
    "\n",
    "insert_25000 = FibonacciHeap()\n",
    "for i in range(25000):\n",
    "    node_25000 = insert_25000.insert(i)\n",
    "\n",
    "insert_50000 = FibonacciHeap()\n",
    "for i in range(50000):\n",
    "    node_50000 = insert_50000.insert(i)\n",
    "\n",
    "insert_75000 = FibonacciHeap()\n",
    "for i in range(75000):\n",
    "    node_75000 = insert_75000.insert(i)\n",
    "\n",
    "insert_100000 = FibonacciHeap()\n",
    "for i in range(100000):\n",
    "    node_100000 = insert_100000.insert(i)\n",
    "\n",
    "insert_benchmarks = list()\n",
    "insert_benchmarks.append(insert_benchmark(insert_100) * 1E6)\n",
    "insert_benchmarks.append(insert_benchmark(insert_1000) * 1E6)\n",
    "insert_benchmarks.append(insert_benchmark(insert_10000) * 1E6)\n",
    "insert_benchmarks.append(insert_benchmark(insert_25000) * 1E6)\n",
    "insert_benchmarks.append(insert_benchmark(insert_50000) * 1E6)\n",
    "insert_benchmarks.append(insert_benchmark(insert_75000) * 1E6)\n",
    "insert_benchmarks.append(insert_benchmark(insert_100000) * 1E6)"
   ]
  },
  {
   "cell_type": "markdown",
   "id": "33078570-7036-4062-96a2-8cb606328ae5",
   "metadata": {},
   "source": [
    "### Benchmarking get_min"
   ]
  },
  {
   "cell_type": "code",
   "execution_count": 6,
   "id": "46a22167-c4c6-473b-989b-3237a9829d59",
   "metadata": {},
   "outputs": [],
   "source": [
    "def get_min_benchmark(heap_to_insert):\n",
    "    start_time = time.perf_counter()\n",
    "    heap_to_insert.get_min().key\n",
    "    return (time.perf_counter() - start_time)"
   ]
  },
  {
   "cell_type": "code",
   "execution_count": 7,
   "id": "577faf95-e3c1-4af3-b470-213121866985",
   "metadata": {},
   "outputs": [],
   "source": [
    "get_min_benchmarks = list()\n",
    "get_min_benchmarks.append(get_min_benchmark(insert_100) * 1E6)\n",
    "get_min_benchmarks.append(get_min_benchmark(insert_1000) * 1E6)\n",
    "get_min_benchmarks.append(get_min_benchmark(insert_10000) * 1E6)\n",
    "get_min_benchmarks.append(get_min_benchmark(insert_25000) * 1E6)\n",
    "get_min_benchmarks.append(get_min_benchmark(insert_50000) * 1E6)\n",
    "get_min_benchmarks.append(get_min_benchmark(insert_75000) * 1E6)\n",
    "get_min_benchmarks.append(get_min_benchmark(insert_100000) * 1E6)"
   ]
  },
  {
   "cell_type": "markdown",
   "id": "5aea41bb-83cb-41b6-8943-18e599f81355",
   "metadata": {},
   "source": [
    "### Benchmarking extract_min"
   ]
  },
  {
   "cell_type": "code",
   "execution_count": 8,
   "id": "5d1f5012-ed14-472f-a05f-f70d5f8700b3",
   "metadata": {},
   "outputs": [],
   "source": [
    "def extract_min_benchmark(heap_to_insert):\n",
    "    start_time = time.perf_counter()\n",
    "    heap_to_insert.extract_min().key\n",
    "    return (time.perf_counter() - start_time)"
   ]
  },
  {
   "cell_type": "markdown",
   "id": "12af7229-5d4c-42bb-8b55-221fdaf543fa",
   "metadata": {},
   "source": [
    "### Benchmarking decrease_key"
   ]
  },
  {
   "cell_type": "code",
   "execution_count": 9,
   "id": "a91d6ecc-16ee-41be-b721-dcdb1c3b0dc6",
   "metadata": {},
   "outputs": [],
   "source": [
    "def decrease_key_benchmark(heap, node, value):\n",
    "    start_time = time.perf_counter()\n",
    "    heap.decrease_key(node, value)\n",
    "    return (time.perf_counter() - start_time)"
   ]
  },
  {
   "cell_type": "code",
   "execution_count": 10,
   "id": "f74d123c-08f2-4b29-a07e-0e5b403a3a04",
   "metadata": {},
   "outputs": [],
   "source": [
    "decrease_key_benchmarks = list()\n",
    "decrease_key_benchmarks.append(decrease_key_benchmark(insert_100, node_100, -1) * 1E6)\n",
    "decrease_key_benchmarks.append(decrease_key_benchmark(insert_1000, node_1000, -1) * 1E6)\n",
    "decrease_key_benchmarks.append(decrease_key_benchmark(insert_10000, node_10000, -1) * 1E6)\n",
    "decrease_key_benchmarks.append(decrease_key_benchmark(insert_25000, node_25000, -1) * 1E6)\n",
    "decrease_key_benchmarks.append(decrease_key_benchmark(insert_50000, node_50000, -1) * 1E6)\n",
    "decrease_key_benchmarks.append(decrease_key_benchmark(insert_75000, node_75000, -1) * 1E6)\n",
    "decrease_key_benchmarks.append(decrease_key_benchmark(insert_100000, node_100000, -1) * 1E6)"
   ]
  },
  {
   "cell_type": "markdown",
   "id": "47699dcc-a1ab-40e6-aff8-c56ea950a0dd",
   "metadata": {},
   "source": [
    "### List sizes"
   ]
  },
  {
   "cell_type": "code",
   "execution_count": 11,
   "id": "d5c0a518-82b4-4b21-89aa-6e214682e613",
   "metadata": {},
   "outputs": [],
   "source": [
    "list_sizes = [100, 1000, 10000, 25000, 50000, 75000, 100000]"
   ]
  },
  {
   "cell_type": "markdown",
   "id": "4bcd94f2-9e5c-4d90-a019-ed8e6dba3f5f",
   "metadata": {},
   "source": [
    "### Insert benchmarking graph"
   ]
  },
  {
   "cell_type": "code",
   "execution_count": 12,
   "id": "0956cce2-696e-4a12-b8a1-53d3680e9209",
   "metadata": {},
   "outputs": [
    {
     "data": {
      "text/plain": [
       "<matplotlib.legend.Legend at 0x1b92c87d950>"
      ]
     },
     "execution_count": 12,
     "metadata": {},
     "output_type": "execute_result"
    },
    {
     "data": {
      "image/png": "[encoded data removed]",
      "text/plain": [
       "<Figure size 640x480 with 1 Axes>"
      ]
     },
     "metadata": {},
     "output_type": "display_data"
    }
   ],
   "source": [
    "plt.plot(list_sizes, insert_benchmarks, label = \"insert\")\n",
    "plt.xlabel(\"List Size\", fontsize = 18)\n",
    "plt.ylabel(\"Run Time (µs)\", fontsize = 18)\n",
    "plt.title(\"Insert\", fontsize = 20)\n",
    "plt.legend()"
   ]
  },
  {
   "cell_type": "markdown",
   "id": "51324316-ee40-482c-b989-ca5c15ccface",
   "metadata": {},
   "source": [
    "### get_min benchmarking graph"
   ]
  },
  {
   "cell_type": "code",
   "execution_count": 13,
   "id": "0dfd9ccc-fdc4-499d-84ee-921f5ebb7d83",
   "metadata": {},
   "outputs": [
    {
     "data": {
      "text/plain": [
       "<matplotlib.legend.Legend at 0x1b930d5e550>"
      ]
     },
     "execution_count": 13,
     "metadata": {},
     "output_type": "execute_result"
    },
    {
     "data": {
      "image/png": "[encoded data removed]",
      "text/plain": [
       "<Figure size 640x480 with 1 Axes>"
      ]
     },
     "metadata": {},
     "output_type": "display_data"
    }
   ],
   "source": [
    "plt.plot(list_sizes, get_min_benchmarks, label = \"get_min\")\n",
    "plt.xlabel(\"List Size\", fontsize = 18)\n",
    "plt.ylabel(\"Run Time (µs)\", fontsize = 18)\n",
    "plt.title(\"get_min\", fontsize = 20)\n",
    "plt.legend()"
   ]
  },
  {
   "cell_type": "markdown",
   "id": "d039f89c-ee3e-42a6-8550-8226f459c671",
   "metadata": {},
   "source": [
    "### decrease_key benchmarking graph"
   ]
  },
  {
   "cell_type": "code",
   "execution_count": 14,
   "id": "a46ad91c-b768-42c0-97fe-cdd26b04e872",
   "metadata": {},
   "outputs": [
    {
     "data": {
      "text/plain": [
       "<matplotlib.legend.Legend at 0x1b930dbb610>"
      ]
     },
     "execution_count": 14,
     "metadata": {},
     "output_type": "execute_result"
    },
    {
     "data": {
      "image/png": "[encoded data removed]",
      "text/plain": [
       "<Figure size 640x480 with 1 Axes>"
      ]
     },
     "metadata": {},
     "output_type": "display_data"
    }
   ],
   "source": [
    "plt.plot(list_sizes, decrease_key_benchmarks, label = \"decrease_key\")\n",
    "plt.xlabel(\"List Size\", fontsize = 18)\n",
    "plt.ylabel(\"Run Time (µs)\", fontsize = 18)\n",
    "plt.title(\"decrease_key\", fontsize = 20)\n",
    "plt.legend()"
   ]
  },
  {
   "cell_type": "markdown",
   "id": "354087d0-d717-4e89-8db9-5107a412da99",
   "metadata": {},
   "source": [
    "### extract_min benchmarking and graph"
   ]
  },
  {
   "cell_type": "code",
   "execution_count": 17,
   "id": "9c620018",
   "metadata": {},
   "outputs": [
    {
     "data": {
      "image/png": "[encoded data removed]",
      "text/plain": [
       "<Figure size 640x480 with 1 Axes>"
      ]
     },
     "metadata": {},
     "output_type": "display_data"
    }
   ],
   "source": [
    "def seconds_to_microseconds(seconds):\n",
    "    return int(seconds * 10**6)\n",
    "\n",
    "def benchmark_extract_min(heap_sizes):\n",
    "    extract_min_times = []\n",
    "    for size in heap_sizes:\n",
    "        heap = FibonacciHeap()\n",
    "        for n in range(size):\n",
    "            heap.insert(n)\n",
    "        repetitions = int(size/2)\n",
    "        start_time = time.perf_counter()\n",
    "        for _ in range(repetitions):\n",
    "            heap.extract_min().key\n",
    "        end_time = time.perf_counter()\n",
    "        extract_min_time = (end_time - start_time) / repetitions\n",
    "        extract_min_times.append(seconds_to_microseconds(extract_min_time))\n",
    "    return extract_min_times\n",
    "\n",
    "heap_sizes = [1000, 10000, 100000, 1000000]\n",
    "extract_min_times = benchmark_extract_min(heap_sizes)\n",
    "plt.plot(heap_sizes, extract_min_times, marker='o')\n",
    "plt.xlabel('Heap Size')\n",
    "plt.ylabel('Time (µs)')\n",
    "plt.title('extract_min operation')\n",
    "plt.show()\n"
   ]
  },
  {
   "cell_type": "code",
   "execution_count": null,
   "id": "83058caf",
   "metadata": {},
   "outputs": [],
   "source": []
  }
 ],
 "metadata": {
  "kernelspec": {
   "display_name": "Python 3 (ipykernel)",
   "language": "python",
   "name": "python3"
  },
  "language_info": {
   "codemirror_mode": {
    "name": "ipython",
    "version": 3
   },
   "file_extension": ".py",
   "mimetype": "text/x-python",
   "name": "python",
   "nbconvert_exporter": "python",
   "pygments_lexer": "ipython3",
   "version": "3.11.4"
  }
 },
 "nbformat": 4,
 "nbformat_minor": 5
}
